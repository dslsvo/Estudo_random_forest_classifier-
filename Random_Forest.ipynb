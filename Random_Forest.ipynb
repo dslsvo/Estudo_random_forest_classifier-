{
 "cells": [
  {
   "cell_type": "markdown",
   "id": "65399416",
   "metadata": {},
   "source": [
    "# Random Forest\n",
    "\n",
    "#Data Frame disponível em: https://drive.google.com/file/d/1jEBo-QkvwuUgbNO6lt6Wnx_F26_DCwVG/view \n",
    "\n",
    "#Exercício Reprodução do canal Data Viking"
   ]
  },
  {
   "cell_type": "code",
   "execution_count": 1,
   "id": "9931d940",
   "metadata": {},
   "outputs": [],
   "source": [
    "#Biblioteca para modelagem dos dados\n",
    "import pandas as pd\n",
    "\n",
    "#Biblioteca para recursos matemáticos\n",
    "import numpy as np\n",
    "\n",
    "#Biblioteca para plotagem dos dados\n",
    "import seaborn as sns\n",
    "import matplotlib.pyplot as plt\n",
    "\n",
    "#Biblioteca  / função para ignorar avisos\n",
    "from warnings import filterwarnings"
   ]
  },
  {
   "cell_type": "code",
   "execution_count": 2,
   "id": "c14c6808",
   "metadata": {},
   "outputs": [],
   "source": [
    "#Plan1 - Base dos dados\n",
    "#Plan2 - Novas entradas para predição\n",
    "\n",
    "df=pd.read_excel('BaseDados_FlorestaDeDecisão.xlsx', 'Plan1')"
   ]
  },
  {
   "cell_type": "markdown",
   "id": "f11f6a0c",
   "metadata": {},
   "source": [
    "# EDA - Entendimento dos dados"
   ]
  },
  {
   "cell_type": "code",
   "execution_count": 3,
   "id": "32f8367d",
   "metadata": {},
   "outputs": [
    {
     "data": {
      "text/html": [
       "<div>\n",
       "<style scoped>\n",
       "    .dataframe tbody tr th:only-of-type {\n",
       "        vertical-align: middle;\n",
       "    }\n",
       "\n",
       "    .dataframe tbody tr th {\n",
       "        vertical-align: top;\n",
       "    }\n",
       "\n",
       "    .dataframe thead th {\n",
       "        text-align: right;\n",
       "    }\n",
       "</style>\n",
       "<table border=\"1\" class=\"dataframe\">\n",
       "  <thead>\n",
       "    <tr style=\"text-align: right;\">\n",
       "      <th></th>\n",
       "      <th>Id Cliente</th>\n",
       "      <th>Idade</th>\n",
       "      <th>Preço Seguro</th>\n",
       "      <th>CEP</th>\n",
       "      <th>Serviço</th>\n",
       "    </tr>\n",
       "  </thead>\n",
       "  <tbody>\n",
       "    <tr>\n",
       "      <th>0</th>\n",
       "      <td>1</td>\n",
       "      <td>69</td>\n",
       "      <td>3930</td>\n",
       "      <td>19005</td>\n",
       "      <td>3</td>\n",
       "    </tr>\n",
       "    <tr>\n",
       "      <th>1</th>\n",
       "      <td>2</td>\n",
       "      <td>27</td>\n",
       "      <td>3336</td>\n",
       "      <td>19027</td>\n",
       "      <td>1</td>\n",
       "    </tr>\n",
       "    <tr>\n",
       "      <th>2</th>\n",
       "      <td>3</td>\n",
       "      <td>49</td>\n",
       "      <td>3936</td>\n",
       "      <td>19001</td>\n",
       "      <td>3</td>\n",
       "    </tr>\n",
       "    <tr>\n",
       "      <th>3</th>\n",
       "      <td>4</td>\n",
       "      <td>60</td>\n",
       "      <td>157</td>\n",
       "      <td>19009</td>\n",
       "      <td>1</td>\n",
       "    </tr>\n",
       "    <tr>\n",
       "      <th>4</th>\n",
       "      <td>5</td>\n",
       "      <td>51</td>\n",
       "      <td>3998</td>\n",
       "      <td>19050</td>\n",
       "      <td>2</td>\n",
       "    </tr>\n",
       "  </tbody>\n",
       "</table>\n",
       "</div>"
      ],
      "text/plain": [
       "   Id Cliente  Idade  Preço Seguro    CEP  Serviço\n",
       "0           1     69          3930  19005        3\n",
       "1           2     27          3336  19027        1\n",
       "2           3     49          3936  19001        3\n",
       "3           4     60           157  19009        1\n",
       "4           5     51          3998  19050        2"
      ]
     },
     "execution_count": 3,
     "metadata": {},
     "output_type": "execute_result"
    }
   ],
   "source": [
    "#Serviço 1 = Não usou o seguro\n",
    "#Serviço 2 = Serviço\n",
    "#Serviço 3 = Furto\n",
    "\n",
    "\n",
    "#Lendo as 5 primeiras linhas do df\n",
    "df.head()"
   ]
  },
  {
   "cell_type": "code",
   "execution_count": 4,
   "id": "5f97fa69",
   "metadata": {},
   "outputs": [
    {
     "name": "stdout",
     "output_type": "stream",
     "text": [
      "<class 'pandas.core.frame.DataFrame'>\n",
      "RangeIndex: 500 entries, 0 to 499\n",
      "Data columns (total 5 columns):\n",
      " #   Column        Non-Null Count  Dtype\n",
      "---  ------        --------------  -----\n",
      " 0   Id Cliente    500 non-null    int64\n",
      " 1   Idade         500 non-null    int64\n",
      " 2   Preço Seguro  500 non-null    int64\n",
      " 3   CEP           500 non-null    int64\n",
      " 4   Serviço       500 non-null    int64\n",
      "dtypes: int64(5)\n",
      "memory usage: 19.7 KB\n"
     ]
    }
   ],
   "source": [
    "#Verificando o formato dos dados por coluna\n",
    "\n",
    "df.info()"
   ]
  },
  {
   "cell_type": "code",
   "execution_count": 5,
   "id": "3141fbca",
   "metadata": {},
   "outputs": [
    {
     "data": {
      "text/html": [
       "<div>\n",
       "<style scoped>\n",
       "    .dataframe tbody tr th:only-of-type {\n",
       "        vertical-align: middle;\n",
       "    }\n",
       "\n",
       "    .dataframe tbody tr th {\n",
       "        vertical-align: top;\n",
       "    }\n",
       "\n",
       "    .dataframe thead th {\n",
       "        text-align: right;\n",
       "    }\n",
       "</style>\n",
       "<table border=\"1\" class=\"dataframe\">\n",
       "  <thead>\n",
       "    <tr style=\"text-align: right;\">\n",
       "      <th></th>\n",
       "      <th>Id Cliente</th>\n",
       "      <th>Idade</th>\n",
       "      <th>Preço Seguro</th>\n",
       "      <th>CEP</th>\n",
       "      <th>Serviço</th>\n",
       "    </tr>\n",
       "  </thead>\n",
       "  <tbody>\n",
       "    <tr>\n",
       "      <th>count</th>\n",
       "      <td>500.000000</td>\n",
       "      <td>500.000000</td>\n",
       "      <td>500.000000</td>\n",
       "      <td>500.000000</td>\n",
       "      <td>500.000000</td>\n",
       "    </tr>\n",
       "    <tr>\n",
       "      <th>mean</th>\n",
       "      <td>250.500000</td>\n",
       "      <td>49.550000</td>\n",
       "      <td>1939.268000</td>\n",
       "      <td>19024.812000</td>\n",
       "      <td>1.904000</td>\n",
       "    </tr>\n",
       "    <tr>\n",
       "      <th>std</th>\n",
       "      <td>144.481833</td>\n",
       "      <td>18.167984</td>\n",
       "      <td>1402.289601</td>\n",
       "      <td>15.079105</td>\n",
       "      <td>0.858054</td>\n",
       "    </tr>\n",
       "    <tr>\n",
       "      <th>min</th>\n",
       "      <td>1.000000</td>\n",
       "      <td>18.000000</td>\n",
       "      <td>100.000000</td>\n",
       "      <td>19000.000000</td>\n",
       "      <td>1.000000</td>\n",
       "    </tr>\n",
       "    <tr>\n",
       "      <th>25%</th>\n",
       "      <td>125.750000</td>\n",
       "      <td>33.750000</td>\n",
       "      <td>612.000000</td>\n",
       "      <td>19011.000000</td>\n",
       "      <td>1.000000</td>\n",
       "    </tr>\n",
       "    <tr>\n",
       "      <th>50%</th>\n",
       "      <td>250.500000</td>\n",
       "      <td>51.000000</td>\n",
       "      <td>1667.500000</td>\n",
       "      <td>19025.000000</td>\n",
       "      <td>2.000000</td>\n",
       "    </tr>\n",
       "    <tr>\n",
       "      <th>75%</th>\n",
       "      <td>375.250000</td>\n",
       "      <td>65.000000</td>\n",
       "      <td>3329.500000</td>\n",
       "      <td>19038.000000</td>\n",
       "      <td>3.000000</td>\n",
       "    </tr>\n",
       "    <tr>\n",
       "      <th>max</th>\n",
       "      <td>500.000000</td>\n",
       "      <td>80.000000</td>\n",
       "      <td>3998.000000</td>\n",
       "      <td>19050.000000</td>\n",
       "      <td>3.000000</td>\n",
       "    </tr>\n",
       "  </tbody>\n",
       "</table>\n",
       "</div>"
      ],
      "text/plain": [
       "       Id Cliente       Idade  Preço Seguro           CEP     Serviço\n",
       "count  500.000000  500.000000    500.000000    500.000000  500.000000\n",
       "mean   250.500000   49.550000   1939.268000  19024.812000    1.904000\n",
       "std    144.481833   18.167984   1402.289601     15.079105    0.858054\n",
       "min      1.000000   18.000000    100.000000  19000.000000    1.000000\n",
       "25%    125.750000   33.750000    612.000000  19011.000000    1.000000\n",
       "50%    250.500000   51.000000   1667.500000  19025.000000    2.000000\n",
       "75%    375.250000   65.000000   3329.500000  19038.000000    3.000000\n",
       "max    500.000000   80.000000   3998.000000  19050.000000    3.000000"
      ]
     },
     "execution_count": 5,
     "metadata": {},
     "output_type": "execute_result"
    }
   ],
   "source": [
    "#Extraindo informações do banco de dados\n",
    "\n",
    "df.describe()"
   ]
  },
  {
   "cell_type": "code",
   "execution_count": 6,
   "id": "a72263b9",
   "metadata": {},
   "outputs": [
    {
     "data": {
      "image/png": "[encoded data removed]",
      "text/plain": [
       "<Figure size 1080x1080 with 6 Axes>"
      ]
     },
     "metadata": {},
     "output_type": "display_data"
    }
   ],
   "source": [
    "sns.set(font_scale=1.5, rc={'figure.figsize': (15,15)})\n",
    "eixo = df.hist(bins=20)"
   ]
  },
  {
   "cell_type": "code",
   "execution_count": 7,
   "id": "84e54bcd",
   "metadata": {
    "scrolled": true
   },
   "outputs": [
    {
     "data": {
      "image/png": "[encoded data removed]",
      "text/plain": [
       "<Figure size 1080x360 with 1 Axes>"
      ]
     },
     "metadata": {},
     "output_type": "display_data"
    }
   ],
   "source": [
    "plt.figure(figsize=(15,5))\n",
    "sns.boxplot(data=df, x='Serviço', y='Idade');"
   ]
  },
  {
   "cell_type": "code",
   "execution_count": 8,
   "id": "2af62832",
   "metadata": {
    "scrolled": true
   },
   "outputs": [
    {
     "data": {
      "image/png": "[encoded data removed]",
      "text/plain": [
       "<Figure size 1080x360 with 1 Axes>"
      ]
     },
     "metadata": {},
     "output_type": "display_data"
    }
   ],
   "source": [
    "plt.figure(figsize=(15,5))\n",
    "sns.boxplot(data=df, x='Serviço', y='Preço Seguro');"
   ]
  },
  {
   "cell_type": "code",
   "execution_count": 9,
   "id": "cab94d72",
   "metadata": {
    "scrolled": true
   },
   "outputs": [
    {
     "data": {
      "image/png": "[encoded data removed]",
      "text/plain": [
       "<Figure size 1080x360 with 1 Axes>"
      ]
     },
     "metadata": {},
     "output_type": "display_data"
    }
   ],
   "source": [
    "plt.figure(figsize=(15,5))\n",
    "sns.boxplot(data=df, x='Serviço', y='CEP');"
   ]
  },
  {
   "cell_type": "markdown",
   "id": "989e06eb",
   "metadata": {},
   "source": [
    "# DIVIDINDO OS DADOS EM TESTE E TREINO"
   ]
  },
  {
   "cell_type": "code",
   "execution_count": 10,
   "id": "0bdd9da7",
   "metadata": {},
   "outputs": [],
   "source": [
    "caracteristica = df.iloc[:,1:4].values\n",
    "previsor = df.iloc[:,4:5].values"
   ]
  },
  {
   "cell_type": "code",
   "execution_count": 11,
   "id": "67d68e05",
   "metadata": {},
   "outputs": [
    {
     "name": "stdout",
     "output_type": "stream",
     "text": [
      "500\n",
      "350\n",
      "150\n"
     ]
    }
   ],
   "source": [
    "from sklearn.model_selection import train_test_split\n",
    "\n",
    "x_treino, x_teste, y_treino, y_teste = train_test_split (\n",
    "    caracteristica,\n",
    "    previsor,\n",
    "    test_size=0.30,\n",
    "    random_state=10\n",
    ")\n",
    "\n",
    "print(len(df))\n",
    "print(len(x_treino))\n",
    "print(len(x_teste))"
   ]
  },
  {
   "cell_type": "markdown",
   "id": "d282848e",
   "metadata": {},
   "source": [
    "# #CRIANDO O MODELO"
   ]
  },
  {
   "cell_type": "code",
   "execution_count": 12,
   "id": "fef1055b",
   "metadata": {},
   "outputs": [
    {
     "name": "stderr",
     "output_type": "stream",
     "text": [
      "C:\\Users\\leonardo\\AppData\\Local\\Temp/ipykernel_21440/2535107829.py:5: DataConversionWarning: A column-vector y was passed when a 1d array was expected. Please change the shape of y to (n_samples,), for example using ravel().\n",
      "  algoritmo.fit(x_treino, y_treino);\n"
     ]
    }
   ],
   "source": [
    "from sklearn.ensemble import RandomForestClassifier\n",
    "\n",
    "algoritmo = RandomForestClassifier(n_estimators=500);\n",
    "\n",
    "algoritmo.fit(x_treino, y_treino);"
   ]
  },
  {
   "cell_type": "markdown",
   "id": "544f887f",
   "metadata": {},
   "source": [
    "# Analisando a Matriz Confusão"
   ]
  },
  {
   "cell_type": "code",
   "execution_count": 13,
   "id": "bcbe2d0c",
   "metadata": {
    "scrolled": true
   },
   "outputs": [
    {
     "name": "stdout",
     "output_type": "stream",
     "text": [
      "[[61  2  1]\n",
      " [ 6 22  8]\n",
      " [ 1  1 48]]\n"
     ]
    },
    {
     "data": {
      "image/png": "[encoded data removed]",
      "text/plain": [
       "<Figure size 720x288 with 2 Axes>"
      ]
     },
     "metadata": {},
     "output_type": "display_data"
    }
   ],
   "source": [
    "Previsoes = algoritmo.predict(x_teste)\n",
    "\n",
    "from sklearn.metrics import confusion_matrix\n",
    "\n",
    "matriz_confusao = confusion_matrix(y_teste, Previsoes)\n",
    "print(matriz_confusao)\n",
    "\n",
    "plt.figure(figsize=(10,4))\n",
    "sns.heatmap(matriz_confusao, annot=True);"
   ]
  },
  {
   "cell_type": "markdown",
   "id": "dd9fdedb",
   "metadata": {},
   "source": [
    "\n",
    "# Analisando a acurácia do modelo"
   ]
  },
  {
   "cell_type": "code",
   "execution_count": 14,
   "id": "68cfbbd0",
   "metadata": {},
   "outputs": [
    {
     "name": "stdout",
     "output_type": "stream",
     "text": [
      "              precision    recall  f1-score   support\n",
      "\n",
      "           1       0.90      0.95      0.92        64\n",
      "           2       0.88      0.61      0.72        36\n",
      "           3       0.84      0.96      0.90        50\n",
      "\n",
      "    accuracy                           0.87       150\n",
      "   macro avg       0.87      0.84      0.85       150\n",
      "weighted avg       0.87      0.87      0.87       150\n",
      "\n"
     ]
    }
   ],
   "source": [
    "from sklearn.metrics import classification_report\n",
    "\n",
    "report = classification_report(y_teste, Previsoes)\n",
    "\n",
    "print (report)"
   ]
  },
  {
   "cell_type": "markdown",
   "id": "30abbfb1",
   "metadata": {},
   "source": [
    "# Fazendo Previsões"
   ]
  },
  {
   "cell_type": "code",
   "execution_count": 15,
   "id": "c5d1e75d",
   "metadata": {},
   "outputs": [],
   "source": [
    "df_novas=pd.read_excel('BaseDados_FlorestaDeDecisão.xlsx', 'Plan2')"
   ]
  },
  {
   "cell_type": "code",
   "execution_count": 16,
   "id": "67c04e0a",
   "metadata": {},
   "outputs": [
    {
     "data": {
      "text/html": [
       "<div>\n",
       "<style scoped>\n",
       "    .dataframe tbody tr th:only-of-type {\n",
       "        vertical-align: middle;\n",
       "    }\n",
       "\n",
       "    .dataframe tbody tr th {\n",
       "        vertical-align: top;\n",
       "    }\n",
       "\n",
       "    .dataframe thead th {\n",
       "        text-align: right;\n",
       "    }\n",
       "</style>\n",
       "<table border=\"1\" class=\"dataframe\">\n",
       "  <thead>\n",
       "    <tr style=\"text-align: right;\">\n",
       "      <th></th>\n",
       "      <th>Id Cliente</th>\n",
       "      <th>Idade</th>\n",
       "      <th>Preço Seguro</th>\n",
       "      <th>CEP</th>\n",
       "    </tr>\n",
       "  </thead>\n",
       "  <tbody>\n",
       "    <tr>\n",
       "      <th>0</th>\n",
       "      <td>1001</td>\n",
       "      <td>25</td>\n",
       "      <td>801</td>\n",
       "      <td>19001</td>\n",
       "    </tr>\n",
       "    <tr>\n",
       "      <th>1</th>\n",
       "      <td>1002</td>\n",
       "      <td>27</td>\n",
       "      <td>1090</td>\n",
       "      <td>19027</td>\n",
       "    </tr>\n",
       "    <tr>\n",
       "      <th>2</th>\n",
       "      <td>1003</td>\n",
       "      <td>45</td>\n",
       "      <td>364</td>\n",
       "      <td>19030</td>\n",
       "    </tr>\n",
       "    <tr>\n",
       "      <th>3</th>\n",
       "      <td>1004</td>\n",
       "      <td>30</td>\n",
       "      <td>2428</td>\n",
       "      <td>19014</td>\n",
       "    </tr>\n",
       "    <tr>\n",
       "      <th>4</th>\n",
       "      <td>1005</td>\n",
       "      <td>32</td>\n",
       "      <td>891</td>\n",
       "      <td>19020</td>\n",
       "    </tr>\n",
       "  </tbody>\n",
       "</table>\n",
       "</div>"
      ],
      "text/plain": [
       "   Id Cliente  Idade  Preço Seguro    CEP\n",
       "0        1001     25           801  19001\n",
       "1        1002     27          1090  19027\n",
       "2        1003     45           364  19030\n",
       "3        1004     30          2428  19014\n",
       "4        1005     32           891  19020"
      ]
     },
     "execution_count": 16,
     "metadata": {},
     "output_type": "execute_result"
    }
   ],
   "source": [
    "df_novas.head()"
   ]
  },
  {
   "cell_type": "code",
   "execution_count": 17,
   "id": "ec29e406",
   "metadata": {},
   "outputs": [],
   "source": [
    "prever = df_novas.iloc[:, 1:4].values\n",
    "\n",
    "df_novas['Previsão do Modelo'] = algoritmo.predict(prever)"
   ]
  },
  {
   "cell_type": "code",
   "execution_count": 18,
   "id": "e55011d1",
   "metadata": {},
   "outputs": [
    {
     "data": {
      "text/html": [
       "<div>\n",
       "<style scoped>\n",
       "    .dataframe tbody tr th:only-of-type {\n",
       "        vertical-align: middle;\n",
       "    }\n",
       "\n",
       "    .dataframe tbody tr th {\n",
       "        vertical-align: top;\n",
       "    }\n",
       "\n",
       "    .dataframe thead th {\n",
       "        text-align: right;\n",
       "    }\n",
       "</style>\n",
       "<table border=\"1\" class=\"dataframe\">\n",
       "  <thead>\n",
       "    <tr style=\"text-align: right;\">\n",
       "      <th></th>\n",
       "      <th>Id Cliente</th>\n",
       "      <th>Idade</th>\n",
       "      <th>Preço Seguro</th>\n",
       "      <th>CEP</th>\n",
       "      <th>Previsão do Modelo</th>\n",
       "    </tr>\n",
       "  </thead>\n",
       "  <tbody>\n",
       "    <tr>\n",
       "      <th>0</th>\n",
       "      <td>1001</td>\n",
       "      <td>25</td>\n",
       "      <td>801</td>\n",
       "      <td>19001</td>\n",
       "      <td>1</td>\n",
       "    </tr>\n",
       "    <tr>\n",
       "      <th>1</th>\n",
       "      <td>1002</td>\n",
       "      <td>27</td>\n",
       "      <td>1090</td>\n",
       "      <td>19027</td>\n",
       "      <td>1</td>\n",
       "    </tr>\n",
       "    <tr>\n",
       "      <th>2</th>\n",
       "      <td>1003</td>\n",
       "      <td>45</td>\n",
       "      <td>364</td>\n",
       "      <td>19030</td>\n",
       "      <td>1</td>\n",
       "    </tr>\n",
       "    <tr>\n",
       "      <th>3</th>\n",
       "      <td>1004</td>\n",
       "      <td>30</td>\n",
       "      <td>2428</td>\n",
       "      <td>19014</td>\n",
       "      <td>1</td>\n",
       "    </tr>\n",
       "    <tr>\n",
       "      <th>4</th>\n",
       "      <td>1005</td>\n",
       "      <td>32</td>\n",
       "      <td>891</td>\n",
       "      <td>19020</td>\n",
       "      <td>1</td>\n",
       "    </tr>\n",
       "    <tr>\n",
       "      <th>5</th>\n",
       "      <td>1006</td>\n",
       "      <td>36</td>\n",
       "      <td>823</td>\n",
       "      <td>19025</td>\n",
       "      <td>1</td>\n",
       "    </tr>\n",
       "    <tr>\n",
       "      <th>6</th>\n",
       "      <td>1007</td>\n",
       "      <td>44</td>\n",
       "      <td>3895</td>\n",
       "      <td>19032</td>\n",
       "      <td>3</td>\n",
       "    </tr>\n",
       "    <tr>\n",
       "      <th>7</th>\n",
       "      <td>1008</td>\n",
       "      <td>36</td>\n",
       "      <td>457</td>\n",
       "      <td>19023</td>\n",
       "      <td>1</td>\n",
       "    </tr>\n",
       "    <tr>\n",
       "      <th>8</th>\n",
       "      <td>1009</td>\n",
       "      <td>40</td>\n",
       "      <td>427</td>\n",
       "      <td>19008</td>\n",
       "      <td>1</td>\n",
       "    </tr>\n",
       "    <tr>\n",
       "      <th>9</th>\n",
       "      <td>1010</td>\n",
       "      <td>40</td>\n",
       "      <td>928</td>\n",
       "      <td>19009</td>\n",
       "      <td>1</td>\n",
       "    </tr>\n",
       "    <tr>\n",
       "      <th>10</th>\n",
       "      <td>1011</td>\n",
       "      <td>45</td>\n",
       "      <td>178</td>\n",
       "      <td>19003</td>\n",
       "      <td>1</td>\n",
       "    </tr>\n",
       "    <tr>\n",
       "      <th>11</th>\n",
       "      <td>1012</td>\n",
       "      <td>46</td>\n",
       "      <td>1923</td>\n",
       "      <td>19013</td>\n",
       "      <td>2</td>\n",
       "    </tr>\n",
       "    <tr>\n",
       "      <th>12</th>\n",
       "      <td>1013</td>\n",
       "      <td>48</td>\n",
       "      <td>2532</td>\n",
       "      <td>19039</td>\n",
       "      <td>2</td>\n",
       "    </tr>\n",
       "    <tr>\n",
       "      <th>13</th>\n",
       "      <td>1014</td>\n",
       "      <td>54</td>\n",
       "      <td>145</td>\n",
       "      <td>19049</td>\n",
       "      <td>1</td>\n",
       "    </tr>\n",
       "    <tr>\n",
       "      <th>14</th>\n",
       "      <td>1015</td>\n",
       "      <td>41</td>\n",
       "      <td>2883</td>\n",
       "      <td>19019</td>\n",
       "      <td>2</td>\n",
       "    </tr>\n",
       "    <tr>\n",
       "      <th>15</th>\n",
       "      <td>1016</td>\n",
       "      <td>44</td>\n",
       "      <td>563</td>\n",
       "      <td>19015</td>\n",
       "      <td>1</td>\n",
       "    </tr>\n",
       "    <tr>\n",
       "      <th>16</th>\n",
       "      <td>1017</td>\n",
       "      <td>60</td>\n",
       "      <td>157</td>\n",
       "      <td>19009</td>\n",
       "      <td>1</td>\n",
       "    </tr>\n",
       "    <tr>\n",
       "      <th>17</th>\n",
       "      <td>1018</td>\n",
       "      <td>74</td>\n",
       "      <td>1253</td>\n",
       "      <td>19049</td>\n",
       "      <td>2</td>\n",
       "    </tr>\n",
       "    <tr>\n",
       "      <th>18</th>\n",
       "      <td>1019</td>\n",
       "      <td>75</td>\n",
       "      <td>3148</td>\n",
       "      <td>19003</td>\n",
       "      <td>2</td>\n",
       "    </tr>\n",
       "    <tr>\n",
       "      <th>19</th>\n",
       "      <td>1020</td>\n",
       "      <td>20</td>\n",
       "      <td>560</td>\n",
       "      <td>19008</td>\n",
       "      <td>1</td>\n",
       "    </tr>\n",
       "    <tr>\n",
       "      <th>20</th>\n",
       "      <td>1021</td>\n",
       "      <td>32</td>\n",
       "      <td>1058</td>\n",
       "      <td>19017</td>\n",
       "      <td>1</td>\n",
       "    </tr>\n",
       "  </tbody>\n",
       "</table>\n",
       "</div>"
      ],
      "text/plain": [
       "    Id Cliente  Idade  Preço Seguro    CEP  Previsão do Modelo\n",
       "0         1001     25           801  19001                   1\n",
       "1         1002     27          1090  19027                   1\n",
       "2         1003     45           364  19030                   1\n",
       "3         1004     30          2428  19014                   1\n",
       "4         1005     32           891  19020                   1\n",
       "5         1006     36           823  19025                   1\n",
       "6         1007     44          3895  19032                   3\n",
       "7         1008     36           457  19023                   1\n",
       "8         1009     40           427  19008                   1\n",
       "9         1010     40           928  19009                   1\n",
       "10        1011     45           178  19003                   1\n",
       "11        1012     46          1923  19013                   2\n",
       "12        1013     48          2532  19039                   2\n",
       "13        1014     54           145  19049                   1\n",
       "14        1015     41          2883  19019                   2\n",
       "15        1016     44           563  19015                   1\n",
       "16        1017     60           157  19009                   1\n",
       "17        1018     74          1253  19049                   2\n",
       "18        1019     75          3148  19003                   2\n",
       "19        1020     20           560  19008                   1\n",
       "20        1021     32          1058  19017                   1"
      ]
     },
     "execution_count": 18,
     "metadata": {},
     "output_type": "execute_result"
    }
   ],
   "source": [
    "df_novas"
   ]
  },
  {
   "cell_type": "code",
   "execution_count": 19,
   "id": "d0ab8206",
   "metadata": {},
   "outputs": [
    {
     "data": {
      "text/plain": [
       "1    15\n",
       "2     5\n",
       "3     1\n",
       "Name: Previsão do Modelo, dtype: int64"
      ]
     },
     "execution_count": 19,
     "metadata": {},
     "output_type": "execute_result"
    }
   ],
   "source": [
    "df_novas['Previsão do Modelo'].value_counts()"
   ]
  }
 ],
 "metadata": {
  "kernelspec": {
   "display_name": "Python 3 (ipykernel)",
   "language": "python",
   "name": "python3"
  },
  "language_info": {
   "codemirror_mode": {
    "name": "ipython",
    "version": 3
   },
   "file_extension": ".py",
   "mimetype": "text/x-python",
   "name": "python",
   "nbconvert_exporter": "python",
   "pygments_lexer": "ipython3",
   "version": "3.9.7"
  }
 },
 "nbformat": 4,
 "nbformat_minor": 5
}
